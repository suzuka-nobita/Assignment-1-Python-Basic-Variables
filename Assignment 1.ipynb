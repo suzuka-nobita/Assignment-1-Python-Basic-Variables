{
 "cells": [
  {
   "cell_type": "code",
   "execution_count": 1,
   "id": "cb03f887-6986-45fc-b4c1-3b632d1c136e",
   "metadata": {},
   "outputs": [],
   "source": [
    "#1. Declare two variables, `x` and `y`, and assign them integer values. Swap the values of these variables without using any temporary variable."
   ]
  },
  {
   "cell_type": "code",
   "execution_count": 3,
   "id": "41a6c036-5c58-4d8e-990e-cf1f62539148",
   "metadata": {},
   "outputs": [
    {
     "name": "stdin",
     "output_type": "stream",
     "text": [
      "Enter a variable : 4\n"
     ]
    }
   ],
   "source": [
    "x=int(input(\"Enter a variable :\"))"
   ]
  },
  {
   "cell_type": "code",
   "execution_count": 4,
   "id": "f709f760-9578-4a52-83bd-309591acb8af",
   "metadata": {},
   "outputs": [
    {
     "name": "stdin",
     "output_type": "stream",
     "text": [
      "Enter a variable : 5\n"
     ]
    }
   ],
   "source": [
    "y=int(input(\"Enter a variable :\"))"
   ]
  },
  {
   "cell_type": "code",
   "execution_count": 5,
   "id": "899ae3ee-987a-4bae-9f82-961d2136400c",
   "metadata": {},
   "outputs": [],
   "source": [
    "x,y=y,x"
   ]
  },
  {
   "cell_type": "code",
   "execution_count": 6,
   "id": "d74c34a6-ade6-472f-a731-decba8895b14",
   "metadata": {},
   "outputs": [
    {
     "name": "stdout",
     "output_type": "stream",
     "text": [
      "After swaping 5 4\n"
     ]
    }
   ],
   "source": [
    "print(\"After swaping\",x,y)"
   ]
  },
  {
   "cell_type": "code",
   "execution_count": 7,
   "id": "adb607ea-37f6-402b-8a5c-c6c187f9c45f",
   "metadata": {},
   "outputs": [
    {
     "data": {
      "text/plain": [
       "'Create a program that calculates the area of a rectangle. Take the length and width as inputs from the user and store them in variables. Calculate and\\ndisplay the area'"
      ]
     },
     "execution_count": 7,
     "metadata": {},
     "output_type": "execute_result"
    }
   ],
   "source": [
    "'''Create a program that calculates the area of a rectangle. Take the length and width as inputs from the user and store them in variables. Calculate and\n",
    "display the area'''"
   ]
  },
  {
   "cell_type": "code",
   "execution_count": 8,
   "id": "ed53a2ab-2a71-43cc-96de-58fc0240cc4c",
   "metadata": {},
   "outputs": [
    {
     "name": "stdin",
     "output_type": "stream",
     "text": [
      "Enter a length of a rectangle 12\n"
     ]
    }
   ],
   "source": [
    "l=int(input(\"Enter a length of a rectangle\"))"
   ]
  },
  {
   "cell_type": "code",
   "execution_count": 9,
   "id": "7fe4b082-c1a1-4f09-a7da-0bc732a304fc",
   "metadata": {},
   "outputs": [
    {
     "name": "stdin",
     "output_type": "stream",
     "text": [
      "Enter a breadth of a rectangle 4\n"
     ]
    }
   ],
   "source": [
    "b=int(input(\"Enter a breadth of a rectangle\"))"
   ]
  },
  {
   "cell_type": "code",
   "execution_count": 10,
   "id": "c866208e-d1fd-4663-ac89-bf0e4b61053f",
   "metadata": {},
   "outputs": [],
   "source": [
    "area= l*b"
   ]
  },
  {
   "cell_type": "code",
   "execution_count": 11,
   "id": "9d0c57b2-a402-48a5-b179-d1a72bd45408",
   "metadata": {},
   "outputs": [
    {
     "name": "stdout",
     "output_type": "stream",
     "text": [
      "Area of a rectangle 48\n"
     ]
    }
   ],
   "source": [
    "print(\"Area of a rectangle\", area)"
   ]
  },
  {
   "cell_type": "code",
   "execution_count": 12,
   "id": "e5c05d70-86d7-4193-b8bd-2c892d736a6f",
   "metadata": {},
   "outputs": [
    {
     "data": {
      "text/plain": [
       "'Write a Python program that converts temperatures from Celsius to Fahrenheit. Take the temperature in Celsius as input, store it in a variable,convert it to Fahrenheit, and display the result'"
      ]
     },
     "execution_count": 12,
     "metadata": {},
     "output_type": "execute_result"
    }
   ],
   "source": [
    "'''Write a Python program that converts temperatures from Celsius to Fahrenheit. Take the temperature in Celsius as input, store it in a variable,convert it to Fahrenheit, and display the result'''"
   ]
  },
  {
   "cell_type": "code",
   "execution_count": 13,
   "id": "04ed66bb-4ba3-480b-9bfb-6ff934f71d2c",
   "metadata": {},
   "outputs": [
    {
     "name": "stdin",
     "output_type": "stream",
     "text": [
      "Enter a temperatue in celsius 37.6\n"
     ]
    }
   ],
   "source": [
    "c=float(input(\"Enter a temperatue in celsius\"))"
   ]
  },
  {
   "cell_type": "code",
   "execution_count": 14,
   "id": "ae134cdf-535e-4ddb-8ec2-e22a9d5547ef",
   "metadata": {},
   "outputs": [],
   "source": [
    "f= (9*c)/5+32"
   ]
  },
  {
   "cell_type": "code",
   "execution_count": 15,
   "id": "8586ae89-b2fc-4e1f-a10c-4f0f5b085b5a",
   "metadata": {},
   "outputs": [
    {
     "name": "stdout",
     "output_type": "stream",
     "text": [
      "Temperature in celsius 99.68\n"
     ]
    }
   ],
   "source": [
    "print(\"Temperature in celsius\", f)"
   ]
  },
  {
   "cell_type": "code",
   "execution_count": 16,
   "id": "78968d4c-9e51-4134-8626-26b270e3beed",
   "metadata": {},
   "outputs": [],
   "source": [
    "# Write a Python program that takes a string as input and prints the length of the string."
   ]
  },
  {
   "cell_type": "code",
   "execution_count": 17,
   "id": "09a05cc8-9784-4b2e-8c1a-5ec6c84abed5",
   "metadata": {},
   "outputs": [
    {
     "name": "stdin",
     "output_type": "stream",
     "text": [
      "Enter a string My name is Mansi Saxena\n"
     ]
    }
   ],
   "source": [
    "a=(input(\"Enter a string\"))"
   ]
  },
  {
   "cell_type": "code",
   "execution_count": 18,
   "id": "fe8169d1-005e-4014-b0e1-537080864262",
   "metadata": {},
   "outputs": [],
   "source": [
    "length= len(a)"
   ]
  },
  {
   "cell_type": "code",
   "execution_count": 19,
   "id": "c40bfc60-bd11-4585-9cbf-611a5c6aff23",
   "metadata": {},
   "outputs": [
    {
     "name": "stdout",
     "output_type": "stream",
     "text": [
      "Length of a string 23\n"
     ]
    }
   ],
   "source": [
    "print(\"Length of a string\", length)"
   ]
  },
  {
   "cell_type": "code",
   "execution_count": 20,
   "id": "10108433-4fc1-44bb-9325-8208dce0ff37",
   "metadata": {},
   "outputs": [],
   "source": [
    "# Create a program that takes a sentence from the user and counts the number of vowels (a, e, i, o, u) in the string."
   ]
  },
  {
   "cell_type": "code",
   "execution_count": 1,
   "id": "c3a31ec8-a667-49dc-8092-4e9540709b6a",
   "metadata": {},
   "outputs": [
    {
     "name": "stdin",
     "output_type": "stream",
     "text": [
      "Enter a sentence My name is Mansi Saxena\n"
     ]
    }
   ],
   "source": [
    "d=input(\"Enter a sentence\")"
   ]
  },
  {
   "cell_type": "code",
   "execution_count": 2,
   "id": "00a7f9ab-cce7-4fca-bc83-a9a2d9031c33",
   "metadata": {},
   "outputs": [],
   "source": [
    "vowels=d.count(\"a\") + d.count(\"A\") + d.count(\"e\") + d.count(\"E\") + d.count(\"i\") + d.count(\"I\") + d.count(\"o\") + d.count(\"O\") + d.count(\"u\") + d.count(\"U\") "
   ]
  },
  {
   "cell_type": "code",
   "execution_count": 4,
   "id": "f60192a8-08f7-4dcc-8431-65be08647177",
   "metadata": {},
   "outputs": [
    {
     "name": "stdout",
     "output_type": "stream",
     "text": [
      "Number od vowels 8\n"
     ]
    }
   ],
   "source": [
    "print(\"Number od vowels\", vowels)"
   ]
  },
  {
   "cell_type": "code",
   "execution_count": 5,
   "id": "d30f9e22-d10b-4082-ae44-2249cb269a95",
   "metadata": {},
   "outputs": [],
   "source": [
    "#Given a string, reverse the order of characters using string slicing and print the reversed string."
   ]
  },
  {
   "cell_type": "code",
   "execution_count": 6,
   "id": "0fa8b7fb-794c-4b24-8ec3-2c3c2f853dea",
   "metadata": {},
   "outputs": [
    {
     "name": "stdin",
     "output_type": "stream",
     "text": [
      "Enter a string Mansisaxena\n"
     ]
    }
   ],
   "source": [
    "a=input(\"Enter a string\")"
   ]
  },
  {
   "cell_type": "code",
   "execution_count": 8,
   "id": "8681038d-f6ba-4fbf-a12e-399c35faacfb",
   "metadata": {},
   "outputs": [],
   "source": [
    "reverseslicing= a[ ::-1]"
   ]
  },
  {
   "cell_type": "code",
   "execution_count": 9,
   "id": "11508176-328b-4f27-8612-b78e4922d9fb",
   "metadata": {},
   "outputs": [
    {
     "name": "stdout",
     "output_type": "stream",
     "text": [
      "Reverse order of given string anexasisnaM\n"
     ]
    }
   ],
   "source": [
    "print(\"Reverse order of given string\" , reverseslicing)"
   ]
  },
  {
   "cell_type": "code",
   "execution_count": 10,
   "id": "1448e3ff-8bfe-4f07-91f3-dd40b38afe8e",
   "metadata": {},
   "outputs": [],
   "source": [
    "# Write a program that takes a string as input and checks if it is a palindrome (reads the same forwards and backwards)."
   ]
  },
  {
   "cell_type": "code",
   "execution_count": 25,
   "id": "a073e2cb-9b7f-4a94-b5de-007ccbf59303",
   "metadata": {},
   "outputs": [
    {
     "name": "stdin",
     "output_type": "stream",
     "text": [
      "Enter a string My name is Mansi Saxena\n"
     ]
    }
   ],
   "source": [
    "z=input(\"Enter a string\")"
   ]
  },
  {
   "cell_type": "code",
   "execution_count": 30,
   "id": "3620f350-5bb6-4aa7-8b31-cb61880ee07e",
   "metadata": {},
   "outputs": [
    {
     "name": "stdout",
     "output_type": "stream",
     "text": [
      "The input string is not a palindrome.\n"
     ]
    }
   ],
   "source": [
    "removed_whitespaces = z.replace(\" \", \"\").lower()\n",
    "reversed = removed_whitespaces[::-1]\n",
    "if reversed == removed_whitespaces:\n",
    "    print(\"The input string is a palindrome.\")\n",
    "else:\n",
    "    print(\"The input string is not a palindrome.\")"
   ]
  },
  {
   "cell_type": "code",
   "execution_count": 27,
   "id": "73b50265-d799-444d-bf09-090cc836f2e1",
   "metadata": {},
   "outputs": [],
   "source": [
    "# Create a program that takes a string as input and removes all the spaces from it. Print the modified string without spaces."
   ]
  },
  {
   "cell_type": "code",
   "execution_count": 28,
   "id": "e681a726-2039-472e-a521-8f80cb363e69",
   "metadata": {},
   "outputs": [
    {
     "name": "stdin",
     "output_type": "stream",
     "text": [
      "Enter a string  My name is Mansi Saxena.\n"
     ]
    },
    {
     "name": "stdout",
     "output_type": "stream",
     "text": [
      "Modified string without spaces is  MynameisMansiSaxena.\n"
     ]
    }
   ],
   "source": [
    "new_string = \"\"\n",
    "string = input(\"Enter a string \")\n",
    "for i in string:\n",
    "    if i != \" \" :\n",
    "        new_string += i\n",
    "\n",
    "print(\"Modified string without spaces is \", new_string)"
   ]
  },
  {
   "cell_type": "code",
   "execution_count": null,
   "id": "4e0068aa-b001-4f64-9bb6-d6d6eb50a8ff",
   "metadata": {},
   "outputs": [],
   "source": []
  }
 ],
 "metadata": {
  "kernelspec": {
   "display_name": "Python 3 (ipykernel)",
   "language": "python",
   "name": "python3"
  },
  "language_info": {
   "codemirror_mode": {
    "name": "ipython",
    "version": 3
   },
   "file_extension": ".py",
   "mimetype": "text/x-python",
   "name": "python",
   "nbconvert_exporter": "python",
   "pygments_lexer": "ipython3",
   "version": "3.10.8"
  }
 },
 "nbformat": 4,
 "nbformat_minor": 5
}
